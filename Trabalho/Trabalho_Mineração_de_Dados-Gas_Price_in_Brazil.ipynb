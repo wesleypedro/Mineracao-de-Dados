{
 "cells": [
  {
   "cell_type": "markdown",
   "metadata": {},
   "source": [
    "------------\n",
    "# Trabalho de Mineração de Dados\n",
    "-------\n",
    "#### Francisco Wesley Pedro Lima"
   ]
  },
  {
   "cell_type": "markdown",
   "metadata": {},
   "source": [
    "------\n",
    "## Descrição do Dataset e Propósito Geral\n",
    "\n",
    "O referido trabalho consistem em analisar os dados disponibilizados pelo [Portal da Agência Nacional do Petóleo, Gás Natural e Biocombustíveis (ANP)](http://www.anp.gov.br/precos-e-defesa-da-concorrencia/precos/levantamento-de-precos/serie-historica-do-levantamento-de-precos-e-de-margens-de-comercializacao-de-combustiveis) que traz uma serie de informações com relação aos valores de diversos combustíveis. Esses dados foram coletados no período compreendido entre maio de 2004 e junho de 2019, com informações coletadas semanalmente."
   ]
  },
  {
   "cell_type": "markdown",
   "metadata": {},
   "source": [
    "O principal propósito é analizar os dados, plotar algumas informações, com relação a consultas relaizadas sobre o dataset e ao final, fazer uma pequena comparação entre algoritmos de regressão de séries temporais. Como os dados disponíveis possuem uma ordem de leitura e informações consistentes relacionados a preços de revenda, tentar criar e  ajustar modelos que tentem predizer valores futuros pode ser de grande utilidade para o comércio ou mesmo para tentar predizer valores e fazer estimativas futuras."
   ]
  },
  {
   "cell_type": "markdown",
   "metadata": {},
   "source": [
    "Tendo em mente essas informações, vamos tentar agora criar modelos de regressão para predizer possíveis valores de dados com base nos algoritmos ARIMA, SARIMA e FBPROPHET"
   ]
  },
  {
   "cell_type": "markdown",
   "metadata": {},
   "source": [
    "----\n",
    "Mas antes de qualquer coisa, precisamos ler os dados, remover atributos desnecessários e mostrar algumas informações referentes ao mesmo e só assim depois, aplicar alguns algoritmos para Times Series"
   ]
  },
  {
   "cell_type": "markdown",
   "metadata": {},
   "source": [
    "### Leitura e Limpeza dos Dados"
   ]
  },
  {
   "cell_type": "markdown",
   "metadata": {},
   "source": [
    "#### Importando bibliotecas iniciais"
   ]
  },
  {
   "cell_type": "code",
   "execution_count": 1,
   "metadata": {},
   "outputs": [],
   "source": [
    "import pandas as pd\n",
    "import numpy as np\n",
    "import matplotlib.pyplot as plt\n",
    "import seaborn as sns\n",
    "from sklearn import metrics\n",
    "%matplotlib inline\n",
    "plt.rcParams['figure.figsize'] = (5,20)"
   ]
  },
  {
   "cell_type": "markdown",
   "metadata": {},
   "source": [
    "#### Configurando cabeçalho e fazendo a leitura dos dados"
   ]
  },
  {
   "cell_type": "code",
   "execution_count": 2,
   "metadata": {},
   "outputs": [],
   "source": [
    "cabecalho =['DATA_INICIAL', 'DATA_FINAL','REGIAO','ESTADO','PRODUTO','NUMERO_DE_POSTOS_PESQUISADOS',\n",
    "            'UNIDADE_DE_MEDIDA','PRECO_MEDIO_REVENDA','DESVIO_PADRAO_REVENDA','PRECO_MINIMO_REVENDA',\n",
    "            'PRECO_MAXIMO_REVENDA','MARGEM_MEDIA_REVENDA','COEF_DE_VARIACAO_REVENDA',\n",
    "            'PRECO_MEDIO_DISTRIBUICAO','DESVIO_PADRAO_DISTRIBUICAO','PRECO_MINIMO_DISTRIBUICAO',\n",
    "            'PRECO_MAXIMO_DISTRIBUICAO','COEF_DE_VARIACAO_DISTRIBUICAO','MES','ANO']\n",
    "\n",
    "df = pd.read_csv('gas-prices-in-brazil/2004-2019.tsv', sep='\\t', names=cabecalho, header=0)"
   ]
  },
  {
   "cell_type": "markdown",
   "metadata": {},
   "source": [
    "#### Pré-processamento dos dados"
   ]
  },
  {
   "cell_type": "code",
   "execution_count": 3,
   "metadata": {},
   "outputs": [
    {
     "name": "stdout",
     "output_type": "stream",
     "text": [
      "<class 'pandas.core.frame.DataFrame'>\n",
      "Int64Index: 106823 entries, 0 to 106822\n",
      "Data columns (total 20 columns):\n",
      "DATA_INICIAL                     106823 non-null object\n",
      "DATA_FINAL                       106823 non-null object\n",
      "REGIAO                           106823 non-null object\n",
      "ESTADO                           106823 non-null object\n",
      "PRODUTO                          106823 non-null object\n",
      "NUMERO_DE_POSTOS_PESQUISADOS     106823 non-null int64\n",
      "UNIDADE_DE_MEDIDA                106823 non-null object\n",
      "PRECO_MEDIO_REVENDA              106823 non-null float64\n",
      "DESVIO_PADRAO_REVENDA            106823 non-null float64\n",
      "PRECO_MINIMO_REVENDA             106823 non-null float64\n",
      "PRECO_MAXIMO_REVENDA             106823 non-null float64\n",
      "MARGEM_MEDIA_REVENDA             106823 non-null object\n",
      "COEF_DE_VARIACAO_REVENDA         106823 non-null float64\n",
      "PRECO_MEDIO_DISTRIBUICAO         106823 non-null object\n",
      "DESVIO_PADRAO_DISTRIBUICAO       106823 non-null object\n",
      "PRECO_MINIMO_DISTRIBUICAO        106823 non-null object\n",
      "PRECO_MAXIMO_DISTRIBUICAO        106823 non-null object\n",
      "COEF_DE_VARIACAO_DISTRIBUICAO    106823 non-null object\n",
      "MES                              106823 non-null int64\n",
      "ANO                              106823 non-null int64\n",
      "dtypes: float64(5), int64(3), object(12)\n",
      "memory usage: 17.1+ MB\n"
     ]
    }
   ],
   "source": [
    "df.info()"
   ]
  },
  {
   "cell_type": "markdown",
   "metadata": {},
   "source": [
    "-----------\n",
    "De acordo com os resultados do df.info(), alguns dos nossos valores são \"object\". Para evitar qualquer problema futuro, vamos transformá-los em valores numéricos"
   ]
  },
  {
   "cell_type": "code",
   "execution_count": 4,
   "metadata": {},
   "outputs": [
    {
     "name": "stdout",
     "output_type": "stream",
     "text": [
      "<class 'pandas.core.frame.DataFrame'>\n",
      "Int64Index: 106823 entries, 0 to 106822\n",
      "Data columns (total 20 columns):\n",
      "DATA_INICIAL                     106823 non-null object\n",
      "DATA_FINAL                       106823 non-null object\n",
      "REGIAO                           106823 non-null object\n",
      "ESTADO                           106823 non-null object\n",
      "PRODUTO                          106823 non-null object\n",
      "NUMERO_DE_POSTOS_PESQUISADOS     106823 non-null int64\n",
      "UNIDADE_DE_MEDIDA                106823 non-null object\n",
      "PRECO_MEDIO_REVENDA              106823 non-null float64\n",
      "DESVIO_PADRAO_REVENDA            106823 non-null float64\n",
      "PRECO_MINIMO_REVENDA             106823 non-null float64\n",
      "PRECO_MAXIMO_REVENDA             106823 non-null float64\n",
      "MARGEM_MEDIA_REVENDA             103392 non-null float64\n",
      "COEF_DE_VARIACAO_REVENDA         106823 non-null float64\n",
      "PRECO_MEDIO_DISTRIBUICAO         103423 non-null float64\n",
      "DESVIO_PADRAO_DISTRIBUICAO       103423 non-null float64\n",
      "PRECO_MINIMO_DISTRIBUICAO        103423 non-null float64\n",
      "PRECO_MAXIMO_DISTRIBUICAO        103423 non-null float64\n",
      "COEF_DE_VARIACAO_DISTRIBUICAO    103423 non-null float64\n",
      "MES                              106823 non-null int64\n",
      "ANO                              106823 non-null int64\n",
      "dtypes: float64(11), int64(3), object(6)\n",
      "memory usage: 17.1+ MB\n"
     ]
    }
   ],
   "source": [
    "for col in ['MARGEM_MEDIA_REVENDA', 'PRECO_MEDIO_DISTRIBUICAO', 'DESVIO_PADRAO_DISTRIBUICAO', \n",
    "            'PRECO_MINIMO_DISTRIBUICAO', 'PRECO_MAXIMO_DISTRIBUICAO', 'COEF_DE_VARIACAO_DISTRIBUICAO']:\n",
    "    # errors='coerce' - then invalid parsing will be set as NaN\n",
    "    df[col] = pd.to_numeric(df[col], errors='coerce')\n",
    "\n",
    "df.info()"
   ]
  },
  {
   "cell_type": "markdown",
   "metadata": {},
   "source": [
    "------\n",
    "Renomeando unidades de medida"
   ]
  },
  {
   "cell_type": "code",
   "execution_count": 5,
   "metadata": {},
   "outputs": [],
   "source": [
    "unidades = {'R$/l':'litro', 'R$/13Kg':'13kg', 'R$/m3':'m3'}\n",
    "df['UNIDADE_DE_MEDIDA'] = df['UNIDADE_DE_MEDIDA'].map(unidades)"
   ]
  },
  {
   "cell_type": "markdown",
   "metadata": {},
   "source": [
    "--------\n",
    "Substituir espaços em branco com _underscore_"
   ]
  },
  {
   "cell_type": "code",
   "execution_count": 6,
   "metadata": {},
   "outputs": [],
   "source": [
    "df.columns = df.columns.str.replace(\"''\", \"\")\n",
    "df.columns = df.columns.str.replace('DISTRIBUICAO', 'DIST')"
   ]
  },
  {
   "cell_type": "markdown",
   "metadata": {},
   "source": [
    "---------\n",
    "Convertendo colunas _datetime_ para objetos _datetime_ e renomeia"
   ]
  },
  {
   "cell_type": "code",
   "execution_count": 7,
   "metadata": {},
   "outputs": [],
   "source": [
    "df['DATA_INICIAL'] = pd.to_datetime(df[\"DATA_INICIAL\"])"
   ]
  },
  {
   "cell_type": "code",
   "execution_count": 8,
   "metadata": {},
   "outputs": [
    {
     "name": "stdout",
     "output_type": "stream",
     "text": [
      "<class 'pandas.core.frame.DataFrame'>\n",
      "Int64Index: 106823 entries, 0 to 106822\n",
      "Data columns (total 20 columns):\n",
      "DATA_INICIAL                    106823 non-null datetime64[ns]\n",
      "DATA_FINAL                      106823 non-null object\n",
      "REGIAO                          106823 non-null object\n",
      "ESTADO                          106823 non-null object\n",
      "PRODUTO                         106823 non-null object\n",
      "NUMERO_DE_POSTOS_PESQUISADOS    106823 non-null int64\n",
      "UNIDADE_DE_MEDIDA               106823 non-null object\n",
      "PRECO_MEDIO_REVENDA             106823 non-null float64\n",
      "DESVIO_PADRAO_REVENDA           106823 non-null float64\n",
      "PRECO_MINIMO_REVENDA            106823 non-null float64\n",
      "PRECO_MAXIMO_REVENDA            106823 non-null float64\n",
      "MARGEM_MEDIA_REVENDA            103392 non-null float64\n",
      "COEF_DE_VARIACAO_REVENDA        106823 non-null float64\n",
      "PRECO_MEDIO_DIST                103423 non-null float64\n",
      "DESVIO_PADRAO_DIST              103423 non-null float64\n",
      "PRECO_MINIMO_DIST               103423 non-null float64\n",
      "PRECO_MAXIMO_DIST               103423 non-null float64\n",
      "COEF_DE_VARIACAO_DIST           103423 non-null float64\n",
      "MES                             106823 non-null int64\n",
      "ANO                             106823 non-null int64\n",
      "dtypes: datetime64[ns](1), float64(11), int64(3), object(5)\n",
      "memory usage: 17.1+ MB\n"
     ]
    }
   ],
   "source": [
    "df.info()"
   ]
  },
  {
   "cell_type": "code",
   "execution_count": 9,
   "metadata": {},
   "outputs": [
    {
     "data": {
      "text/html": [
       "<div>\n",
       "<style scoped>\n",
       "    .dataframe tbody tr th:only-of-type {\n",
       "        vertical-align: middle;\n",
       "    }\n",
       "\n",
       "    .dataframe tbody tr th {\n",
       "        vertical-align: top;\n",
       "    }\n",
       "\n",
       "    .dataframe thead th {\n",
       "        text-align: right;\n",
       "    }\n",
       "</style>\n",
       "<table border=\"1\" class=\"dataframe\">\n",
       "  <thead>\n",
       "    <tr style=\"text-align: right;\">\n",
       "      <th></th>\n",
       "      <th>DATA_INICIAL</th>\n",
       "      <th>DATA_FINAL</th>\n",
       "      <th>REGIAO</th>\n",
       "      <th>ESTADO</th>\n",
       "      <th>PRODUTO</th>\n",
       "      <th>NUMERO_DE_POSTOS_PESQUISADOS</th>\n",
       "      <th>UNIDADE_DE_MEDIDA</th>\n",
       "      <th>PRECO_MEDIO_REVENDA</th>\n",
       "      <th>DESVIO_PADRAO_REVENDA</th>\n",
       "      <th>PRECO_MINIMO_REVENDA</th>\n",
       "      <th>PRECO_MAXIMO_REVENDA</th>\n",
       "      <th>MARGEM_MEDIA_REVENDA</th>\n",
       "      <th>COEF_DE_VARIACAO_REVENDA</th>\n",
       "      <th>PRECO_MEDIO_DIST</th>\n",
       "      <th>DESVIO_PADRAO_DIST</th>\n",
       "      <th>PRECO_MINIMO_DIST</th>\n",
       "      <th>PRECO_MAXIMO_DIST</th>\n",
       "      <th>COEF_DE_VARIACAO_DIST</th>\n",
       "      <th>MES</th>\n",
       "      <th>ANO</th>\n",
       "    </tr>\n",
       "  </thead>\n",
       "  <tbody>\n",
       "    <tr>\n",
       "      <th>0</th>\n",
       "      <td>2004-05-09</td>\n",
       "      <td>2004-05-15</td>\n",
       "      <td>CENTRO OESTE</td>\n",
       "      <td>DISTRITO FEDERAL</td>\n",
       "      <td>ETANOL HIDRATADO</td>\n",
       "      <td>127</td>\n",
       "      <td>litro</td>\n",
       "      <td>1.288</td>\n",
       "      <td>0.016</td>\n",
       "      <td>1.19</td>\n",
       "      <td>1.350</td>\n",
       "      <td>0.463</td>\n",
       "      <td>0.012</td>\n",
       "      <td>0.825</td>\n",
       "      <td>0.110</td>\n",
       "      <td>0.4201</td>\n",
       "      <td>0.96660</td>\n",
       "      <td>0.133</td>\n",
       "      <td>5</td>\n",
       "      <td>2004</td>\n",
       "    </tr>\n",
       "    <tr>\n",
       "      <th>1</th>\n",
       "      <td>2004-05-09</td>\n",
       "      <td>2004-05-15</td>\n",
       "      <td>CENTRO OESTE</td>\n",
       "      <td>GOIAS</td>\n",
       "      <td>ETANOL HIDRATADO</td>\n",
       "      <td>387</td>\n",
       "      <td>litro</td>\n",
       "      <td>1.162</td>\n",
       "      <td>0.114</td>\n",
       "      <td>0.89</td>\n",
       "      <td>1.449</td>\n",
       "      <td>0.399</td>\n",
       "      <td>0.098</td>\n",
       "      <td>0.763</td>\n",
       "      <td>0.088</td>\n",
       "      <td>0.5013</td>\n",
       "      <td>1.05000</td>\n",
       "      <td>0.115</td>\n",
       "      <td>5</td>\n",
       "      <td>2004</td>\n",
       "    </tr>\n",
       "    <tr>\n",
       "      <th>2</th>\n",
       "      <td>2004-05-09</td>\n",
       "      <td>2004-05-15</td>\n",
       "      <td>CENTRO OESTE</td>\n",
       "      <td>MATO GROSSO</td>\n",
       "      <td>ETANOL HIDRATADO</td>\n",
       "      <td>192</td>\n",
       "      <td>litro</td>\n",
       "      <td>1.389</td>\n",
       "      <td>0.097</td>\n",
       "      <td>1.18</td>\n",
       "      <td>1.760</td>\n",
       "      <td>0.419</td>\n",
       "      <td>0.070</td>\n",
       "      <td>0.970</td>\n",
       "      <td>0.095</td>\n",
       "      <td>0.5614</td>\n",
       "      <td>1.16100</td>\n",
       "      <td>0.098</td>\n",
       "      <td>5</td>\n",
       "      <td>2004</td>\n",
       "    </tr>\n",
       "    <tr>\n",
       "      <th>3</th>\n",
       "      <td>2004-05-09</td>\n",
       "      <td>2004-05-15</td>\n",
       "      <td>CENTRO OESTE</td>\n",
       "      <td>MATO GROSSO DO SUL</td>\n",
       "      <td>ETANOL HIDRATADO</td>\n",
       "      <td>162</td>\n",
       "      <td>litro</td>\n",
       "      <td>1.262</td>\n",
       "      <td>0.070</td>\n",
       "      <td>1.09</td>\n",
       "      <td>1.509</td>\n",
       "      <td>0.432</td>\n",
       "      <td>0.055</td>\n",
       "      <td>0.830</td>\n",
       "      <td>0.119</td>\n",
       "      <td>0.5991</td>\n",
       "      <td>1.22242</td>\n",
       "      <td>0.143</td>\n",
       "      <td>5</td>\n",
       "      <td>2004</td>\n",
       "    </tr>\n",
       "    <tr>\n",
       "      <th>4</th>\n",
       "      <td>2004-05-09</td>\n",
       "      <td>2004-05-15</td>\n",
       "      <td>NORDESTE</td>\n",
       "      <td>ALAGOAS</td>\n",
       "      <td>ETANOL HIDRATADO</td>\n",
       "      <td>103</td>\n",
       "      <td>litro</td>\n",
       "      <td>1.181</td>\n",
       "      <td>0.078</td>\n",
       "      <td>1.05</td>\n",
       "      <td>1.400</td>\n",
       "      <td>0.240</td>\n",
       "      <td>0.066</td>\n",
       "      <td>0.941</td>\n",
       "      <td>0.077</td>\n",
       "      <td>0.7441</td>\n",
       "      <td>1.03170</td>\n",
       "      <td>0.082</td>\n",
       "      <td>5</td>\n",
       "      <td>2004</td>\n",
       "    </tr>\n",
       "  </tbody>\n",
       "</table>\n",
       "</div>"
      ],
      "text/plain": [
       "  DATA_INICIAL  DATA_FINAL        REGIAO              ESTADO  \\\n",
       "0   2004-05-09  2004-05-15  CENTRO OESTE    DISTRITO FEDERAL   \n",
       "1   2004-05-09  2004-05-15  CENTRO OESTE               GOIAS   \n",
       "2   2004-05-09  2004-05-15  CENTRO OESTE         MATO GROSSO   \n",
       "3   2004-05-09  2004-05-15  CENTRO OESTE  MATO GROSSO DO SUL   \n",
       "4   2004-05-09  2004-05-15      NORDESTE             ALAGOAS   \n",
       "\n",
       "            PRODUTO  NUMERO_DE_POSTOS_PESQUISADOS UNIDADE_DE_MEDIDA  \\\n",
       "0  ETANOL HIDRATADO                           127             litro   \n",
       "1  ETANOL HIDRATADO                           387             litro   \n",
       "2  ETANOL HIDRATADO                           192             litro   \n",
       "3  ETANOL HIDRATADO                           162             litro   \n",
       "4  ETANOL HIDRATADO                           103             litro   \n",
       "\n",
       "   PRECO_MEDIO_REVENDA  DESVIO_PADRAO_REVENDA  PRECO_MINIMO_REVENDA  \\\n",
       "0                1.288                  0.016                  1.19   \n",
       "1                1.162                  0.114                  0.89   \n",
       "2                1.389                  0.097                  1.18   \n",
       "3                1.262                  0.070                  1.09   \n",
       "4                1.181                  0.078                  1.05   \n",
       "\n",
       "   PRECO_MAXIMO_REVENDA  MARGEM_MEDIA_REVENDA  COEF_DE_VARIACAO_REVENDA  \\\n",
       "0                 1.350                 0.463                     0.012   \n",
       "1                 1.449                 0.399                     0.098   \n",
       "2                 1.760                 0.419                     0.070   \n",
       "3                 1.509                 0.432                     0.055   \n",
       "4                 1.400                 0.240                     0.066   \n",
       "\n",
       "   PRECO_MEDIO_DIST  DESVIO_PADRAO_DIST  PRECO_MINIMO_DIST  PRECO_MAXIMO_DIST  \\\n",
       "0             0.825               0.110             0.4201            0.96660   \n",
       "1             0.763               0.088             0.5013            1.05000   \n",
       "2             0.970               0.095             0.5614            1.16100   \n",
       "3             0.830               0.119             0.5991            1.22242   \n",
       "4             0.941               0.077             0.7441            1.03170   \n",
       "\n",
       "   COEF_DE_VARIACAO_DIST  MES   ANO  \n",
       "0                  0.133    5  2004  \n",
       "1                  0.115    5  2004  \n",
       "2                  0.098    5  2004  \n",
       "3                  0.143    5  2004  \n",
       "4                  0.082    5  2004  "
      ]
     },
     "execution_count": 9,
     "metadata": {},
     "output_type": "execute_result"
    }
   ],
   "source": [
    "df.head()"
   ]
  },
  {
   "cell_type": "code",
   "execution_count": 10,
   "metadata": {},
   "outputs": [
    {
     "data": {
      "text/plain": [
       "DATA_INICIAL                       0\n",
       "DATA_FINAL                         0\n",
       "REGIAO                             0\n",
       "ESTADO                             0\n",
       "PRODUTO                            0\n",
       "NUMERO_DE_POSTOS_PESQUISADOS       0\n",
       "UNIDADE_DE_MEDIDA                  0\n",
       "PRECO_MEDIO_REVENDA                0\n",
       "DESVIO_PADRAO_REVENDA              0\n",
       "PRECO_MINIMO_REVENDA               0\n",
       "PRECO_MAXIMO_REVENDA               0\n",
       "MARGEM_MEDIA_REVENDA            3431\n",
       "COEF_DE_VARIACAO_REVENDA           0\n",
       "PRECO_MEDIO_DIST                3400\n",
       "DESVIO_PADRAO_DIST              3400\n",
       "PRECO_MINIMO_DIST               3400\n",
       "PRECO_MAXIMO_DIST               3400\n",
       "COEF_DE_VARIACAO_DIST           3400\n",
       "MES                                0\n",
       "ANO                                0\n",
       "dtype: int64"
      ]
     },
     "execution_count": 10,
     "metadata": {},
     "output_type": "execute_result"
    }
   ],
   "source": [
    "df.isnull().sum()"
   ]
  },
  {
   "cell_type": "code",
   "execution_count": 11,
   "metadata": {},
   "outputs": [],
   "source": [
    "df['MARGEM_MEDIA_REVENDA'].fillna(df['MARGEM_MEDIA_REVENDA'].median(), inplace=True)\n",
    "df['PRECO_MEDIO_DIST'].fillna(df['PRECO_MEDIO_DIST'].median(), inplace=True)\n",
    "df['DESVIO_PADRAO_DIST'].fillna(df['DESVIO_PADRAO_DIST'].median(), inplace=True)\n",
    "df['PRECO_MINIMO_DIST'].fillna(df['PRECO_MAXIMO_DIST'].median(), inplace=True)\n",
    "df['PRECO_MAXIMO_DIST'].fillna(df['PRECO_MAXIMO_DIST'].median(), inplace=True)\n",
    "df['COEF_DE_VARIACAO_DIST'].fillna(df['COEF_DE_VARIACAO_DIST'].median(), inplace=True)"
   ]
  },
  {
   "cell_type": "code",
   "execution_count": 12,
   "metadata": {},
   "outputs": [
    {
     "name": "stdout",
     "output_type": "stream",
     "text": [
      "<class 'pandas.core.frame.DataFrame'>\n",
      "Int64Index: 106823 entries, 0 to 106822\n",
      "Data columns (total 20 columns):\n",
      "DATA_INICIAL                    106823 non-null datetime64[ns]\n",
      "DATA_FINAL                      106823 non-null object\n",
      "REGIAO                          106823 non-null object\n",
      "ESTADO                          106823 non-null object\n",
      "PRODUTO                         106823 non-null object\n",
      "NUMERO_DE_POSTOS_PESQUISADOS    106823 non-null int64\n",
      "UNIDADE_DE_MEDIDA               106823 non-null object\n",
      "PRECO_MEDIO_REVENDA             106823 non-null float64\n",
      "DESVIO_PADRAO_REVENDA           106823 non-null float64\n",
      "PRECO_MINIMO_REVENDA            106823 non-null float64\n",
      "PRECO_MAXIMO_REVENDA            106823 non-null float64\n",
      "MARGEM_MEDIA_REVENDA            106823 non-null float64\n",
      "COEF_DE_VARIACAO_REVENDA        106823 non-null float64\n",
      "PRECO_MEDIO_DIST                106823 non-null float64\n",
      "DESVIO_PADRAO_DIST              106823 non-null float64\n",
      "PRECO_MINIMO_DIST               106823 non-null float64\n",
      "PRECO_MAXIMO_DIST               106823 non-null float64\n",
      "COEF_DE_VARIACAO_DIST           106823 non-null float64\n",
      "MES                             106823 non-null int64\n",
      "ANO                             106823 non-null int64\n",
      "dtypes: datetime64[ns](1), float64(11), int64(3), object(5)\n",
      "memory usage: 17.1+ MB\n"
     ]
    }
   ],
   "source": [
    "df.info()"
   ]
  },
  {
   "cell_type": "markdown",
   "metadata": {},
   "source": [
    "#### Mostrando os diferentes tipos de produtos e as regiões presentes no nosso dataset"
   ]
  },
  {
   "cell_type": "code",
   "execution_count": 13,
   "metadata": {},
   "outputs": [
    {
     "data": {
      "text/plain": [
       "array(['ETANOL HIDRATADO', 'GASOLINA COMUM', 'GLP', 'GNV', 'ÓLEO DIESEL',\n",
       "       'ÓLEO DIESEL S10'], dtype=object)"
      ]
     },
     "execution_count": 13,
     "metadata": {},
     "output_type": "execute_result"
    }
   ],
   "source": [
    "produtos = df['PRODUTO'].unique()\n",
    "produtos"
   ]
  },
  {
   "cell_type": "code",
   "execution_count": 14,
   "metadata": {},
   "outputs": [
    {
     "data": {
      "text/plain": [
       "array(['CENTRO OESTE', 'NORDESTE', 'NORTE', 'SUDESTE', 'SUL'],\n",
       "      dtype=object)"
      ]
     },
     "execution_count": 14,
     "metadata": {},
     "output_type": "execute_result"
    }
   ],
   "source": [
    "regioes = df['REGIAO'].unique()\n",
    "regioes"
   ]
  },
  {
   "cell_type": "markdown",
   "metadata": {},
   "source": [
    "### Visualização de Informações"
   ]
  },
  {
   "cell_type": "markdown",
   "metadata": {},
   "source": [
    "---------\n",
    "Uma maneira prática de se visualizar os dados e como os seus valores cresceram de acordo com o passar dos anos, seria fazendo consultas ao dataframe, usando restrições para retornar apenas o que desejamos.\n",
    "\n",
    "No exemplo abaixo, fazemos uma consulta para ver como se deu o aumento do preço do gás de cozinha (GLP - Gás Liquefeito de Petróleo) em todas as regiões."
   ]
  },
  {
   "cell_type": "code",
   "execution_count": 15,
   "metadata": {},
   "outputs": [
    {
     "data": {
      "image/png": "[encoded data removed]",
      "text/plain": [
       "<Figure size 1080x504 with 1 Axes>"
      ]
     },
     "metadata": {
      "needs_background": "light"
     },
     "output_type": "display_data"
    }
   ],
   "source": [
    "fig, ax = plt.subplots(figsize=(15,7))\n",
    "df.query('ANO != 2019 & PRODUTO in [\"GLP\"]').groupby(['ANO','REGIAO']).median()['PRECO_MEDIO_REVENDA'].unstack().plot(ax=ax)\n",
    "plt.grid(True)"
   ]
  },
  {
   "cell_type": "code",
   "execution_count": 16,
   "metadata": {},
   "outputs": [
    {
     "data": {
      "image/png": "[encoded data removed]",
      "text/plain": [
       "<Figure size 1080x504 with 1 Axes>"
      ]
     },
     "metadata": {
      "needs_background": "light"
     },
     "output_type": "display_data"
    }
   ],
   "source": [
    "fig, ax = plt.subplots(figsize=(15,7))\n",
    "df.query('ANO != 2019 & REGIAO in [\"NORDESTE\"]').groupby(['ANO','ESTADO']).sum()['PRECO_MEDIO_REVENDA'].unstack().plot(ax=ax)\n",
    "plt.grid(True)"
   ]
  },
  {
   "cell_type": "markdown",
   "metadata": {},
   "source": [
    "---------\n",
    "Para a análise que queremos fazer, alguns dados podem não ser nessários, para isso, podemos _dropar_ algumas colunas, de forma a simplificar um pouco mais nosso dataset."
   ]
  },
  {
   "cell_type": "code",
   "execution_count": 17,
   "metadata": {},
   "outputs": [],
   "source": [
    "dff = df.drop(['DATA_FINAL', 'DESVIO_PADRAO_REVENDA', 'PRECO_MINIMO_REVENDA', 'PRECO_MAXIMO_REVENDA', \n",
    "               'MARGEM_MEDIA_REVENDA', 'COEF_DE_VARIACAO_DIST', 'DESVIO_PADRAO_DIST', 'PRECO_MINIMO_DIST', \n",
    "               'PRECO_MAXIMO_DIST', 'COEF_DE_VARIACAO_REVENDA'], axis = 1)"
   ]
  },
  {
   "cell_type": "code",
   "execution_count": 18,
   "metadata": {},
   "outputs": [
    {
     "data": {
      "text/html": [
       "<div>\n",
       "<style scoped>\n",
       "    .dataframe tbody tr th:only-of-type {\n",
       "        vertical-align: middle;\n",
       "    }\n",
       "\n",
       "    .dataframe tbody tr th {\n",
       "        vertical-align: top;\n",
       "    }\n",
       "\n",
       "    .dataframe thead th {\n",
       "        text-align: right;\n",
       "    }\n",
       "</style>\n",
       "<table border=\"1\" class=\"dataframe\">\n",
       "  <thead>\n",
       "    <tr style=\"text-align: right;\">\n",
       "      <th></th>\n",
       "      <th>DATA_INICIAL</th>\n",
       "      <th>REGIAO</th>\n",
       "      <th>ESTADO</th>\n",
       "      <th>PRODUTO</th>\n",
       "      <th>NUMERO_DE_POSTOS_PESQUISADOS</th>\n",
       "      <th>UNIDADE_DE_MEDIDA</th>\n",
       "      <th>PRECO_MEDIO_REVENDA</th>\n",
       "      <th>PRECO_MEDIO_DIST</th>\n",
       "      <th>MES</th>\n",
       "      <th>ANO</th>\n",
       "    </tr>\n",
       "  </thead>\n",
       "  <tbody>\n",
       "    <tr>\n",
       "      <th>0</th>\n",
       "      <td>2004-05-09</td>\n",
       "      <td>CENTRO OESTE</td>\n",
       "      <td>DISTRITO FEDERAL</td>\n",
       "      <td>ETANOL HIDRATADO</td>\n",
       "      <td>127</td>\n",
       "      <td>litro</td>\n",
       "      <td>1.288</td>\n",
       "      <td>0.825</td>\n",
       "      <td>5</td>\n",
       "      <td>2004</td>\n",
       "    </tr>\n",
       "    <tr>\n",
       "      <th>1</th>\n",
       "      <td>2004-05-09</td>\n",
       "      <td>CENTRO OESTE</td>\n",
       "      <td>GOIAS</td>\n",
       "      <td>ETANOL HIDRATADO</td>\n",
       "      <td>387</td>\n",
       "      <td>litro</td>\n",
       "      <td>1.162</td>\n",
       "      <td>0.763</td>\n",
       "      <td>5</td>\n",
       "      <td>2004</td>\n",
       "    </tr>\n",
       "    <tr>\n",
       "      <th>2</th>\n",
       "      <td>2004-05-09</td>\n",
       "      <td>CENTRO OESTE</td>\n",
       "      <td>MATO GROSSO</td>\n",
       "      <td>ETANOL HIDRATADO</td>\n",
       "      <td>192</td>\n",
       "      <td>litro</td>\n",
       "      <td>1.389</td>\n",
       "      <td>0.970</td>\n",
       "      <td>5</td>\n",
       "      <td>2004</td>\n",
       "    </tr>\n",
       "    <tr>\n",
       "      <th>3</th>\n",
       "      <td>2004-05-09</td>\n",
       "      <td>CENTRO OESTE</td>\n",
       "      <td>MATO GROSSO DO SUL</td>\n",
       "      <td>ETANOL HIDRATADO</td>\n",
       "      <td>162</td>\n",
       "      <td>litro</td>\n",
       "      <td>1.262</td>\n",
       "      <td>0.830</td>\n",
       "      <td>5</td>\n",
       "      <td>2004</td>\n",
       "    </tr>\n",
       "    <tr>\n",
       "      <th>4</th>\n",
       "      <td>2004-05-09</td>\n",
       "      <td>NORDESTE</td>\n",
       "      <td>ALAGOAS</td>\n",
       "      <td>ETANOL HIDRATADO</td>\n",
       "      <td>103</td>\n",
       "      <td>litro</td>\n",
       "      <td>1.181</td>\n",
       "      <td>0.941</td>\n",
       "      <td>5</td>\n",
       "      <td>2004</td>\n",
       "    </tr>\n",
       "  </tbody>\n",
       "</table>\n",
       "</div>"
      ],
      "text/plain": [
       "  DATA_INICIAL        REGIAO              ESTADO           PRODUTO  \\\n",
       "0   2004-05-09  CENTRO OESTE    DISTRITO FEDERAL  ETANOL HIDRATADO   \n",
       "1   2004-05-09  CENTRO OESTE               GOIAS  ETANOL HIDRATADO   \n",
       "2   2004-05-09  CENTRO OESTE         MATO GROSSO  ETANOL HIDRATADO   \n",
       "3   2004-05-09  CENTRO OESTE  MATO GROSSO DO SUL  ETANOL HIDRATADO   \n",
       "4   2004-05-09      NORDESTE             ALAGOAS  ETANOL HIDRATADO   \n",
       "\n",
       "   NUMERO_DE_POSTOS_PESQUISADOS UNIDADE_DE_MEDIDA  PRECO_MEDIO_REVENDA  \\\n",
       "0                           127             litro                1.288   \n",
       "1                           387             litro                1.162   \n",
       "2                           192             litro                1.389   \n",
       "3                           162             litro                1.262   \n",
       "4                           103             litro                1.181   \n",
       "\n",
       "   PRECO_MEDIO_DIST  MES   ANO  \n",
       "0             0.825    5  2004  \n",
       "1             0.763    5  2004  \n",
       "2             0.970    5  2004  \n",
       "3             0.830    5  2004  \n",
       "4             0.941    5  2004  "
      ]
     },
     "execution_count": 18,
     "metadata": {},
     "output_type": "execute_result"
    }
   ],
   "source": [
    "dff.head()"
   ]
  },
  {
   "cell_type": "code",
   "execution_count": 19,
   "metadata": {},
   "outputs": [
    {
     "name": "stdout",
     "output_type": "stream",
     "text": [
      "<class 'pandas.core.frame.DataFrame'>\n",
      "Int64Index: 106823 entries, 0 to 106822\n",
      "Data columns (total 10 columns):\n",
      "DATA_INICIAL                    106823 non-null datetime64[ns]\n",
      "REGIAO                          106823 non-null object\n",
      "ESTADO                          106823 non-null object\n",
      "PRODUTO                         106823 non-null object\n",
      "NUMERO_DE_POSTOS_PESQUISADOS    106823 non-null int64\n",
      "UNIDADE_DE_MEDIDA               106823 non-null object\n",
      "PRECO_MEDIO_REVENDA             106823 non-null float64\n",
      "PRECO_MEDIO_DIST                106823 non-null float64\n",
      "MES                             106823 non-null int64\n",
      "ANO                             106823 non-null int64\n",
      "dtypes: datetime64[ns](1), float64(2), int64(3), object(4)\n",
      "memory usage: 9.0+ MB\n"
     ]
    }
   ],
   "source": [
    "dff.info()"
   ]
  },
  {
   "cell_type": "markdown",
   "metadata": {},
   "source": [
    "------\n",
    "A seguir, será mostrado a quantidade de observações por cada região"
   ]
  },
  {
   "cell_type": "code",
   "execution_count": 20,
   "metadata": {},
   "outputs": [
    {
     "data": {
      "image/png": "[encoded data removed]",
      "text/plain": [
       "<Figure size 1080x360 with 1 Axes>"
      ]
     },
     "metadata": {
      "needs_background": "light"
     },
     "output_type": "display_data"
    }
   ],
   "source": [
    "fig, ax = plt.subplots(figsize=(15,5))\n",
    "ax = sns.countplot(x='REGIAO', data=dff)\n",
    "plt.title('Número de observações por região', fontsize=28)\n",
    "plt.xlabel('Quantidade', fontsize=22)\n",
    "plt.ylabel('Macrorregião', fontsize=24)\n",
    "plt.xticks(rotation=None, fontsize=20)\n",
    "plt.yticks(fontsize=16)\n",
    "plt.tight_layout()\n",
    "\n",
    "plt.show()"
   ]
  },
  {
   "cell_type": "code",
   "execution_count": 21,
   "metadata": {},
   "outputs": [
    {
     "data": {
      "text/plain": [
       "RIO DE JANEIRO         4263\n",
       "CEARA                  4263\n",
       "SAO PAULO              4263\n",
       "RIO GRANDE DO SUL      4263\n",
       "BAHIA                  4263\n",
       "PARAIBA                4263\n",
       "PERNAMBUCO             4262\n",
       "RIO GRANDE DO NORTE    4262\n",
       "SANTA CATARINA         4262\n",
       "MINAS GERAIS           4261\n",
       "ESPIRITO SANTO         4260\n",
       "SERGIPE                4259\n",
       "PARANA                 4251\n",
       "ALAGOAS                4250\n",
       "MATO GROSSO DO SUL     4246\n",
       "MATO GROSSO            4037\n",
       "AMAZONAS               3889\n",
       "GOIAS                  3663\n",
       "PIAUI                  3548\n",
       "MARANHAO               3499\n",
       "PARA                   3497\n",
       "TOCANTINS              3483\n",
       "DISTRITO FEDERAL       3483\n",
       "ACRE                   3480\n",
       "RONDONIA               3479\n",
       "RORAIMA                3471\n",
       "AMAPA                  3403\n",
       "Name: ESTADO, dtype: int64"
      ]
     },
     "execution_count": 21,
     "metadata": {},
     "output_type": "execute_result"
    }
   ],
   "source": [
    "# Se verificarmos por estado, teremos então um melho ponto para analisar os dados\n",
    "dff['ESTADO'].value_counts()"
   ]
  },
  {
   "cell_type": "markdown",
   "metadata": {},
   "source": [
    "## Análise de Séries Temporais\n",
    "-----\n",
    "Como os dados apresentam uma série histórica com informações de preços de combustíveis coletados desde o ano de 2004, com informações de valor médio de revenda e datas de coletas que seguem uma ordem bem definida, então podemos ultilizar esse dataset para criar modelos preditivos , e com base em dados de um período anteriro específico, tentar predizer qual seria um próximo valor"
   ]
  },
  {
   "cell_type": "markdown",
   "metadata": {},
   "source": [
    "Para analizar e predizer informações sobre um determinado produto, inicialmente vamos separar esse produto do conjunto de dados e tentar prever o seu valor apenas para um estado e um único produto em específico.\n",
    "\n",
    "No nosso exemplo, iremos tomar como base o gás de cozinha (GLP) no Ceará. Inicialmente vamos separar os dados de todo o período e depois vamos separar esses dados em um conjunto para treino e outro conjunto para testes."
   ]
  },
  {
   "cell_type": "code",
   "execution_count": 22,
   "metadata": {},
   "outputs": [],
   "source": [
    "df_ceara_train = dff.loc[dff['PRODUTO'] == 'GLP'].loc[dff['ESTADO'] == 'CEARA'].loc[dff['ANO']!=2019]\n",
    "glp_pp_ceara_test = dff.loc[dff['PRODUTO'] == 'GLP'].loc[dff['ESTADO'] == 'CEARA']"
   ]
  },
  {
   "cell_type": "code",
   "execution_count": 23,
   "metadata": {},
   "outputs": [
    {
     "data": {
      "text/html": [
       "<div>\n",
       "<style scoped>\n",
       "    .dataframe tbody tr th:only-of-type {\n",
       "        vertical-align: middle;\n",
       "    }\n",
       "\n",
       "    .dataframe tbody tr th {\n",
       "        vertical-align: top;\n",
       "    }\n",
       "\n",
       "    .dataframe thead th {\n",
       "        text-align: right;\n",
       "    }\n",
       "</style>\n",
       "<table border=\"1\" class=\"dataframe\">\n",
       "  <thead>\n",
       "    <tr style=\"text-align: right;\">\n",
       "      <th></th>\n",
       "      <th>DATA_INICIAL</th>\n",
       "      <th>REGIAO</th>\n",
       "      <th>ESTADO</th>\n",
       "      <th>PRODUTO</th>\n",
       "      <th>NUMERO_DE_POSTOS_PESQUISADOS</th>\n",
       "      <th>UNIDADE_DE_MEDIDA</th>\n",
       "      <th>PRECO_MEDIO_REVENDA</th>\n",
       "      <th>PRECO_MEDIO_DIST</th>\n",
       "      <th>MES</th>\n",
       "      <th>ANO</th>\n",
       "    </tr>\n",
       "  </thead>\n",
       "  <tbody>\n",
       "    <tr>\n",
       "      <th>24138</th>\n",
       "      <td>2004-05-09</td>\n",
       "      <td>NORDESTE</td>\n",
       "      <td>CEARA</td>\n",
       "      <td>GLP</td>\n",
       "      <td>198</td>\n",
       "      <td>13kg</td>\n",
       "      <td>32.778</td>\n",
       "      <td>26.884</td>\n",
       "      <td>5</td>\n",
       "      <td>2004</td>\n",
       "    </tr>\n",
       "    <tr>\n",
       "      <th>24165</th>\n",
       "      <td>2004-05-16</td>\n",
       "      <td>NORDESTE</td>\n",
       "      <td>CEARA</td>\n",
       "      <td>GLP</td>\n",
       "      <td>194</td>\n",
       "      <td>13kg</td>\n",
       "      <td>32.743</td>\n",
       "      <td>27.662</td>\n",
       "      <td>5</td>\n",
       "      <td>2004</td>\n",
       "    </tr>\n",
       "    <tr>\n",
       "      <th>24192</th>\n",
       "      <td>2004-05-23</td>\n",
       "      <td>NORDESTE</td>\n",
       "      <td>CEARA</td>\n",
       "      <td>GLP</td>\n",
       "      <td>181</td>\n",
       "      <td>13kg</td>\n",
       "      <td>32.570</td>\n",
       "      <td>27.168</td>\n",
       "      <td>5</td>\n",
       "      <td>2004</td>\n",
       "    </tr>\n",
       "    <tr>\n",
       "      <th>24219</th>\n",
       "      <td>2004-05-30</td>\n",
       "      <td>NORDESTE</td>\n",
       "      <td>CEARA</td>\n",
       "      <td>GLP</td>\n",
       "      <td>212</td>\n",
       "      <td>13kg</td>\n",
       "      <td>32.610</td>\n",
       "      <td>27.353</td>\n",
       "      <td>5</td>\n",
       "      <td>2004</td>\n",
       "    </tr>\n",
       "    <tr>\n",
       "      <th>24246</th>\n",
       "      <td>2004-06-06</td>\n",
       "      <td>NORDESTE</td>\n",
       "      <td>CEARA</td>\n",
       "      <td>GLP</td>\n",
       "      <td>182</td>\n",
       "      <td>13kg</td>\n",
       "      <td>32.677</td>\n",
       "      <td>27.069</td>\n",
       "      <td>6</td>\n",
       "      <td>2004</td>\n",
       "    </tr>\n",
       "  </tbody>\n",
       "</table>\n",
       "</div>"
      ],
      "text/plain": [
       "      DATA_INICIAL    REGIAO ESTADO PRODUTO  NUMERO_DE_POSTOS_PESQUISADOS  \\\n",
       "24138   2004-05-09  NORDESTE  CEARA     GLP                           198   \n",
       "24165   2004-05-16  NORDESTE  CEARA     GLP                           194   \n",
       "24192   2004-05-23  NORDESTE  CEARA     GLP                           181   \n",
       "24219   2004-05-30  NORDESTE  CEARA     GLP                           212   \n",
       "24246   2004-06-06  NORDESTE  CEARA     GLP                           182   \n",
       "\n",
       "      UNIDADE_DE_MEDIDA  PRECO_MEDIO_REVENDA  PRECO_MEDIO_DIST  MES   ANO  \n",
       "24138              13kg               32.778            26.884    5  2004  \n",
       "24165              13kg               32.743            27.662    5  2004  \n",
       "24192              13kg               32.570            27.168    5  2004  \n",
       "24219              13kg               32.610            27.353    5  2004  \n",
       "24246              13kg               32.677            27.069    6  2004  "
      ]
     },
     "execution_count": 23,
     "metadata": {},
     "output_type": "execute_result"
    }
   ],
   "source": [
    "df_ceara_train.head()"
   ]
  },
  {
   "cell_type": "code",
   "execution_count": 24,
   "metadata": {},
   "outputs": [
    {
     "data": {
      "text/html": [
       "<div>\n",
       "<style scoped>\n",
       "    .dataframe tbody tr th:only-of-type {\n",
       "        vertical-align: middle;\n",
       "    }\n",
       "\n",
       "    .dataframe tbody tr th {\n",
       "        vertical-align: top;\n",
       "    }\n",
       "\n",
       "    .dataframe thead th {\n",
       "        text-align: right;\n",
       "    }\n",
       "</style>\n",
       "<table border=\"1\" class=\"dataframe\">\n",
       "  <thead>\n",
       "    <tr style=\"text-align: right;\">\n",
       "      <th></th>\n",
       "      <th>DATA_INICIAL</th>\n",
       "      <th>REGIAO</th>\n",
       "      <th>ESTADO</th>\n",
       "      <th>PRODUTO</th>\n",
       "      <th>NUMERO_DE_POSTOS_PESQUISADOS</th>\n",
       "      <th>UNIDADE_DE_MEDIDA</th>\n",
       "      <th>PRECO_MEDIO_REVENDA</th>\n",
       "      <th>PRECO_MEDIO_DIST</th>\n",
       "      <th>MES</th>\n",
       "      <th>ANO</th>\n",
       "    </tr>\n",
       "  </thead>\n",
       "  <tbody>\n",
       "    <tr>\n",
       "      <th>102434</th>\n",
       "      <td>2018-12-02</td>\n",
       "      <td>NORDESTE</td>\n",
       "      <td>CEARA</td>\n",
       "      <td>GLP</td>\n",
       "      <td>131</td>\n",
       "      <td>13kg</td>\n",
       "      <td>74.391</td>\n",
       "      <td>54.273</td>\n",
       "      <td>12</td>\n",
       "      <td>2018</td>\n",
       "    </tr>\n",
       "    <tr>\n",
       "      <th>102583</th>\n",
       "      <td>2018-12-09</td>\n",
       "      <td>NORDESTE</td>\n",
       "      <td>CEARA</td>\n",
       "      <td>GLP</td>\n",
       "      <td>131</td>\n",
       "      <td>13kg</td>\n",
       "      <td>72.945</td>\n",
       "      <td>52.776</td>\n",
       "      <td>12</td>\n",
       "      <td>2018</td>\n",
       "    </tr>\n",
       "    <tr>\n",
       "      <th>102732</th>\n",
       "      <td>2018-12-16</td>\n",
       "      <td>NORDESTE</td>\n",
       "      <td>CEARA</td>\n",
       "      <td>GLP</td>\n",
       "      <td>131</td>\n",
       "      <td>13kg</td>\n",
       "      <td>71.765</td>\n",
       "      <td>49.007</td>\n",
       "      <td>12</td>\n",
       "      <td>2018</td>\n",
       "    </tr>\n",
       "    <tr>\n",
       "      <th>102882</th>\n",
       "      <td>2018-12-23</td>\n",
       "      <td>NORDESTE</td>\n",
       "      <td>CEARA</td>\n",
       "      <td>GLP</td>\n",
       "      <td>131</td>\n",
       "      <td>13kg</td>\n",
       "      <td>71.945</td>\n",
       "      <td>48.797</td>\n",
       "      <td>12</td>\n",
       "      <td>2018</td>\n",
       "    </tr>\n",
       "    <tr>\n",
       "      <th>103033</th>\n",
       "      <td>2018-12-30</td>\n",
       "      <td>NORDESTE</td>\n",
       "      <td>CEARA</td>\n",
       "      <td>GLP</td>\n",
       "      <td>131</td>\n",
       "      <td>13kg</td>\n",
       "      <td>71.527</td>\n",
       "      <td>47.966</td>\n",
       "      <td>12</td>\n",
       "      <td>2018</td>\n",
       "    </tr>\n",
       "  </tbody>\n",
       "</table>\n",
       "</div>"
      ],
      "text/plain": [
       "       DATA_INICIAL    REGIAO ESTADO PRODUTO  NUMERO_DE_POSTOS_PESQUISADOS  \\\n",
       "102434   2018-12-02  NORDESTE  CEARA     GLP                           131   \n",
       "102583   2018-12-09  NORDESTE  CEARA     GLP                           131   \n",
       "102732   2018-12-16  NORDESTE  CEARA     GLP                           131   \n",
       "102882   2018-12-23  NORDESTE  CEARA     GLP                           131   \n",
       "103033   2018-12-30  NORDESTE  CEARA     GLP                           131   \n",
       "\n",
       "       UNIDADE_DE_MEDIDA  PRECO_MEDIO_REVENDA  PRECO_MEDIO_DIST  MES   ANO  \n",
       "102434              13kg               74.391            54.273   12  2018  \n",
       "102583              13kg               72.945            52.776   12  2018  \n",
       "102732              13kg               71.765            49.007   12  2018  \n",
       "102882              13kg               71.945            48.797   12  2018  \n",
       "103033              13kg               71.527            47.966   12  2018  "
      ]
     },
     "execution_count": 24,
     "metadata": {},
     "output_type": "execute_result"
    }
   ],
   "source": [
    "df_ceara_train.tail()"
   ]
  },
  {
   "cell_type": "code",
   "execution_count": 25,
   "metadata": {},
   "outputs": [],
   "source": [
    "df_ceara_test = dff.loc[dff['PRODUTO'] == 'GLP'].loc[dff['ESTADO'] == 'CEARA'].loc[dff['ANO']==2019]"
   ]
  },
  {
   "cell_type": "code",
   "execution_count": 26,
   "metadata": {},
   "outputs": [
    {
     "data": {
      "text/html": [
       "<div>\n",
       "<style scoped>\n",
       "    .dataframe tbody tr th:only-of-type {\n",
       "        vertical-align: middle;\n",
       "    }\n",
       "\n",
       "    .dataframe tbody tr th {\n",
       "        vertical-align: top;\n",
       "    }\n",
       "\n",
       "    .dataframe thead th {\n",
       "        text-align: right;\n",
       "    }\n",
       "</style>\n",
       "<table border=\"1\" class=\"dataframe\">\n",
       "  <thead>\n",
       "    <tr style=\"text-align: right;\">\n",
       "      <th></th>\n",
       "      <th>DATA_INICIAL</th>\n",
       "      <th>REGIAO</th>\n",
       "      <th>ESTADO</th>\n",
       "      <th>PRODUTO</th>\n",
       "      <th>NUMERO_DE_POSTOS_PESQUISADOS</th>\n",
       "      <th>UNIDADE_DE_MEDIDA</th>\n",
       "      <th>PRECO_MEDIO_REVENDA</th>\n",
       "      <th>PRECO_MEDIO_DIST</th>\n",
       "      <th>MES</th>\n",
       "      <th>ANO</th>\n",
       "    </tr>\n",
       "  </thead>\n",
       "  <tbody>\n",
       "    <tr>\n",
       "      <th>103181</th>\n",
       "      <td>2019-01-06</td>\n",
       "      <td>NORDESTE</td>\n",
       "      <td>CEARA</td>\n",
       "      <td>GLP</td>\n",
       "      <td>131</td>\n",
       "      <td>13kg</td>\n",
       "      <td>71.762</td>\n",
       "      <td>49.390</td>\n",
       "      <td>1</td>\n",
       "      <td>2019</td>\n",
       "    </tr>\n",
       "    <tr>\n",
       "      <th>103331</th>\n",
       "      <td>2019-01-13</td>\n",
       "      <td>NORDESTE</td>\n",
       "      <td>CEARA</td>\n",
       "      <td>GLP</td>\n",
       "      <td>131</td>\n",
       "      <td>13kg</td>\n",
       "      <td>73.153</td>\n",
       "      <td>51.676</td>\n",
       "      <td>1</td>\n",
       "      <td>2019</td>\n",
       "    </tr>\n",
       "    <tr>\n",
       "      <th>103481</th>\n",
       "      <td>2019-01-20</td>\n",
       "      <td>NORDESTE</td>\n",
       "      <td>CEARA</td>\n",
       "      <td>GLP</td>\n",
       "      <td>131</td>\n",
       "      <td>13kg</td>\n",
       "      <td>72.878</td>\n",
       "      <td>51.880</td>\n",
       "      <td>1</td>\n",
       "      <td>2019</td>\n",
       "    </tr>\n",
       "    <tr>\n",
       "      <th>103631</th>\n",
       "      <td>2019-01-27</td>\n",
       "      <td>NORDESTE</td>\n",
       "      <td>CEARA</td>\n",
       "      <td>GLP</td>\n",
       "      <td>130</td>\n",
       "      <td>13kg</td>\n",
       "      <td>73.182</td>\n",
       "      <td>52.334</td>\n",
       "      <td>1</td>\n",
       "      <td>2019</td>\n",
       "    </tr>\n",
       "    <tr>\n",
       "      <th>103781</th>\n",
       "      <td>2019-02-03</td>\n",
       "      <td>NORDESTE</td>\n",
       "      <td>CEARA</td>\n",
       "      <td>GLP</td>\n",
       "      <td>130</td>\n",
       "      <td>13kg</td>\n",
       "      <td>72.103</td>\n",
       "      <td>52.030</td>\n",
       "      <td>2</td>\n",
       "      <td>2019</td>\n",
       "    </tr>\n",
       "  </tbody>\n",
       "</table>\n",
       "</div>"
      ],
      "text/plain": [
       "       DATA_INICIAL    REGIAO ESTADO PRODUTO  NUMERO_DE_POSTOS_PESQUISADOS  \\\n",
       "103181   2019-01-06  NORDESTE  CEARA     GLP                           131   \n",
       "103331   2019-01-13  NORDESTE  CEARA     GLP                           131   \n",
       "103481   2019-01-20  NORDESTE  CEARA     GLP                           131   \n",
       "103631   2019-01-27  NORDESTE  CEARA     GLP                           130   \n",
       "103781   2019-02-03  NORDESTE  CEARA     GLP                           130   \n",
       "\n",
       "       UNIDADE_DE_MEDIDA  PRECO_MEDIO_REVENDA  PRECO_MEDIO_DIST  MES   ANO  \n",
       "103181              13kg               71.762            49.390    1  2019  \n",
       "103331              13kg               73.153            51.676    1  2019  \n",
       "103481              13kg               72.878            51.880    1  2019  \n",
       "103631              13kg               73.182            52.334    1  2019  \n",
       "103781              13kg               72.103            52.030    2  2019  "
      ]
     },
     "execution_count": 26,
     "metadata": {},
     "output_type": "execute_result"
    }
   ],
   "source": [
    "df_ceara_test.head()"
   ]
  },
  {
   "cell_type": "code",
   "execution_count": 27,
   "metadata": {},
   "outputs": [
    {
     "data": {
      "text/html": [
       "<div>\n",
       "<style scoped>\n",
       "    .dataframe tbody tr th:only-of-type {\n",
       "        vertical-align: middle;\n",
       "    }\n",
       "\n",
       "    .dataframe tbody tr th {\n",
       "        vertical-align: top;\n",
       "    }\n",
       "\n",
       "    .dataframe thead th {\n",
       "        text-align: right;\n",
       "    }\n",
       "</style>\n",
       "<table border=\"1\" class=\"dataframe\">\n",
       "  <thead>\n",
       "    <tr style=\"text-align: right;\">\n",
       "      <th></th>\n",
       "      <th>DATA_INICIAL</th>\n",
       "      <th>REGIAO</th>\n",
       "      <th>ESTADO</th>\n",
       "      <th>PRODUTO</th>\n",
       "      <th>NUMERO_DE_POSTOS_PESQUISADOS</th>\n",
       "      <th>UNIDADE_DE_MEDIDA</th>\n",
       "      <th>PRECO_MEDIO_REVENDA</th>\n",
       "      <th>PRECO_MEDIO_DIST</th>\n",
       "      <th>MES</th>\n",
       "      <th>ANO</th>\n",
       "    </tr>\n",
       "  </thead>\n",
       "  <tbody>\n",
       "    <tr>\n",
       "      <th>106188</th>\n",
       "      <td>2019-05-26</td>\n",
       "      <td>NORDESTE</td>\n",
       "      <td>CEARA</td>\n",
       "      <td>GLP</td>\n",
       "      <td>131</td>\n",
       "      <td>13kg</td>\n",
       "      <td>75.059</td>\n",
       "      <td>54.023</td>\n",
       "      <td>5</td>\n",
       "      <td>2019</td>\n",
       "    </tr>\n",
       "    <tr>\n",
       "      <th>106337</th>\n",
       "      <td>2019-06-02</td>\n",
       "      <td>NORDESTE</td>\n",
       "      <td>CEARA</td>\n",
       "      <td>GLP</td>\n",
       "      <td>131</td>\n",
       "      <td>13kg</td>\n",
       "      <td>73.777</td>\n",
       "      <td>53.454</td>\n",
       "      <td>6</td>\n",
       "      <td>2019</td>\n",
       "    </tr>\n",
       "    <tr>\n",
       "      <th>106487</th>\n",
       "      <td>2019-06-09</td>\n",
       "      <td>NORDESTE</td>\n",
       "      <td>CEARA</td>\n",
       "      <td>GLP</td>\n",
       "      <td>131</td>\n",
       "      <td>13kg</td>\n",
       "      <td>73.868</td>\n",
       "      <td>53.158</td>\n",
       "      <td>6</td>\n",
       "      <td>2019</td>\n",
       "    </tr>\n",
       "    <tr>\n",
       "      <th>106637</th>\n",
       "      <td>2019-06-16</td>\n",
       "      <td>NORDESTE</td>\n",
       "      <td>CEARA</td>\n",
       "      <td>GLP</td>\n",
       "      <td>131</td>\n",
       "      <td>13kg</td>\n",
       "      <td>73.437</td>\n",
       "      <td>52.668</td>\n",
       "      <td>6</td>\n",
       "      <td>2019</td>\n",
       "    </tr>\n",
       "    <tr>\n",
       "      <th>106786</th>\n",
       "      <td>2019-06-23</td>\n",
       "      <td>NORDESTE</td>\n",
       "      <td>CEARA</td>\n",
       "      <td>GLP</td>\n",
       "      <td>131</td>\n",
       "      <td>13kg</td>\n",
       "      <td>74.659</td>\n",
       "      <td>52.708</td>\n",
       "      <td>6</td>\n",
       "      <td>2019</td>\n",
       "    </tr>\n",
       "  </tbody>\n",
       "</table>\n",
       "</div>"
      ],
      "text/plain": [
       "       DATA_INICIAL    REGIAO ESTADO PRODUTO  NUMERO_DE_POSTOS_PESQUISADOS  \\\n",
       "106188   2019-05-26  NORDESTE  CEARA     GLP                           131   \n",
       "106337   2019-06-02  NORDESTE  CEARA     GLP                           131   \n",
       "106487   2019-06-09  NORDESTE  CEARA     GLP                           131   \n",
       "106637   2019-06-16  NORDESTE  CEARA     GLP                           131   \n",
       "106786   2019-06-23  NORDESTE  CEARA     GLP                           131   \n",
       "\n",
       "       UNIDADE_DE_MEDIDA  PRECO_MEDIO_REVENDA  PRECO_MEDIO_DIST  MES   ANO  \n",
       "106188              13kg               75.059            54.023    5  2019  \n",
       "106337              13kg               73.777            53.454    6  2019  \n",
       "106487              13kg               73.868            53.158    6  2019  \n",
       "106637              13kg               73.437            52.668    6  2019  \n",
       "106786              13kg               74.659            52.708    6  2019  "
      ]
     },
     "execution_count": 27,
     "metadata": {},
     "output_type": "execute_result"
    }
   ],
   "source": [
    "df_ceara_test.tail()"
   ]
  },
  {
   "cell_type": "code",
   "execution_count": 28,
   "metadata": {},
   "outputs": [],
   "source": [
    "glp_ceara_train = df_ceara_train[['DATA_INICIAL', 'PRECO_MEDIO_REVENDA']]"
   ]
  },
  {
   "cell_type": "code",
   "execution_count": 29,
   "metadata": {},
   "outputs": [
    {
     "data": {
      "text/html": [
       "<div>\n",
       "<style scoped>\n",
       "    .dataframe tbody tr th:only-of-type {\n",
       "        vertical-align: middle;\n",
       "    }\n",
       "\n",
       "    .dataframe tbody tr th {\n",
       "        vertical-align: top;\n",
       "    }\n",
       "\n",
       "    .dataframe thead th {\n",
       "        text-align: right;\n",
       "    }\n",
       "</style>\n",
       "<table border=\"1\" class=\"dataframe\">\n",
       "  <thead>\n",
       "    <tr style=\"text-align: right;\">\n",
       "      <th></th>\n",
       "      <th>DATA_INICIAL</th>\n",
       "      <th>PRECO_MEDIO_REVENDA</th>\n",
       "    </tr>\n",
       "  </thead>\n",
       "  <tbody>\n",
       "    <tr>\n",
       "      <th>24138</th>\n",
       "      <td>2004-05-09</td>\n",
       "      <td>32.778</td>\n",
       "    </tr>\n",
       "    <tr>\n",
       "      <th>24165</th>\n",
       "      <td>2004-05-16</td>\n",
       "      <td>32.743</td>\n",
       "    </tr>\n",
       "    <tr>\n",
       "      <th>24192</th>\n",
       "      <td>2004-05-23</td>\n",
       "      <td>32.570</td>\n",
       "    </tr>\n",
       "    <tr>\n",
       "      <th>24219</th>\n",
       "      <td>2004-05-30</td>\n",
       "      <td>32.610</td>\n",
       "    </tr>\n",
       "    <tr>\n",
       "      <th>24246</th>\n",
       "      <td>2004-06-06</td>\n",
       "      <td>32.677</td>\n",
       "    </tr>\n",
       "  </tbody>\n",
       "</table>\n",
       "</div>"
      ],
      "text/plain": [
       "      DATA_INICIAL  PRECO_MEDIO_REVENDA\n",
       "24138   2004-05-09               32.778\n",
       "24165   2004-05-16               32.743\n",
       "24192   2004-05-23               32.570\n",
       "24219   2004-05-30               32.610\n",
       "24246   2004-06-06               32.677"
      ]
     },
     "execution_count": 29,
     "metadata": {},
     "output_type": "execute_result"
    }
   ],
   "source": [
    "glp_ceara_train.head()"
   ]
  },
  {
   "cell_type": "code",
   "execution_count": 30,
   "metadata": {},
   "outputs": [],
   "source": [
    "glp_ceara_test = df_ceara_test[['DATA_INICIAL', 'PRECO_MEDIO_REVENDA']]"
   ]
  },
  {
   "cell_type": "code",
   "execution_count": 31,
   "metadata": {},
   "outputs": [
    {
     "data": {
      "text/html": [
       "<div>\n",
       "<style scoped>\n",
       "    .dataframe tbody tr th:only-of-type {\n",
       "        vertical-align: middle;\n",
       "    }\n",
       "\n",
       "    .dataframe tbody tr th {\n",
       "        vertical-align: top;\n",
       "    }\n",
       "\n",
       "    .dataframe thead th {\n",
       "        text-align: right;\n",
       "    }\n",
       "</style>\n",
       "<table border=\"1\" class=\"dataframe\">\n",
       "  <thead>\n",
       "    <tr style=\"text-align: right;\">\n",
       "      <th></th>\n",
       "      <th>DATA_INICIAL</th>\n",
       "      <th>PRECO_MEDIO_REVENDA</th>\n",
       "    </tr>\n",
       "  </thead>\n",
       "  <tbody>\n",
       "    <tr>\n",
       "      <th>103181</th>\n",
       "      <td>2019-01-06</td>\n",
       "      <td>71.762</td>\n",
       "    </tr>\n",
       "    <tr>\n",
       "      <th>103331</th>\n",
       "      <td>2019-01-13</td>\n",
       "      <td>73.153</td>\n",
       "    </tr>\n",
       "    <tr>\n",
       "      <th>103481</th>\n",
       "      <td>2019-01-20</td>\n",
       "      <td>72.878</td>\n",
       "    </tr>\n",
       "    <tr>\n",
       "      <th>103631</th>\n",
       "      <td>2019-01-27</td>\n",
       "      <td>73.182</td>\n",
       "    </tr>\n",
       "    <tr>\n",
       "      <th>103781</th>\n",
       "      <td>2019-02-03</td>\n",
       "      <td>72.103</td>\n",
       "    </tr>\n",
       "  </tbody>\n",
       "</table>\n",
       "</div>"
      ],
      "text/plain": [
       "       DATA_INICIAL  PRECO_MEDIO_REVENDA\n",
       "103181   2019-01-06               71.762\n",
       "103331   2019-01-13               73.153\n",
       "103481   2019-01-20               72.878\n",
       "103631   2019-01-27               73.182\n",
       "103781   2019-02-03               72.103"
      ]
     },
     "execution_count": 31,
     "metadata": {},
     "output_type": "execute_result"
    }
   ],
   "source": [
    "glp_ceara_test.head()"
   ]
  },
  {
   "cell_type": "markdown",
   "metadata": {},
   "source": [
    "### Algoritmo FB Prophet"
   ]
  },
  {
   "cell_type": "markdown",
   "metadata": {},
   "source": [
    "#### Importando bibliotecas necessárias"
   ]
  },
  {
   "cell_type": "code",
   "execution_count": 32,
   "metadata": {},
   "outputs": [
    {
     "name": "stderr",
     "output_type": "stream",
     "text": [
      "ERROR:fbprophet:Importing plotly failed. Interactive plots will not work.\n"
     ]
    }
   ],
   "source": [
    "from fbprophet import Prophet"
   ]
  },
  {
   "cell_type": "markdown",
   "metadata": {},
   "source": [
    "Pré-processamento para ajuste de acordo com o algoritmo"
   ]
  },
  {
   "cell_type": "code",
   "execution_count": 33,
   "metadata": {},
   "outputs": [
    {
     "name": "stderr",
     "output_type": "stream",
     "text": [
      "/home/user/anaconda3/lib/python3.7/site-packages/pandas/core/frame.py:4025: SettingWithCopyWarning: \n",
      "A value is trying to be set on a copy of a slice from a DataFrame\n",
      "\n",
      "See the caveats in the documentation: http://pandas.pydata.org/pandas-docs/stable/indexing.html#indexing-view-versus-copy\n",
      "  return super(DataFrame, self).rename(**kwargs)\n"
     ]
    }
   ],
   "source": [
    "glp_ceara_train.rename(columns={'DATA_INICIAL':'ds', 'PRECO_MEDIO_REVENDA':'y'}, inplace=True)"
   ]
  },
  {
   "cell_type": "code",
   "execution_count": 34,
   "metadata": {},
   "outputs": [],
   "source": [
    "glp_ceara_test.rename(columns={'DATA_INICIAL':'ds', 'PRECO_MEDIO_REVENDA':'y'}, inplace=True)"
   ]
  },
  {
   "cell_type": "code",
   "execution_count": 35,
   "metadata": {},
   "outputs": [
    {
     "data": {
      "text/html": [
       "<div>\n",
       "<style scoped>\n",
       "    .dataframe tbody tr th:only-of-type {\n",
       "        vertical-align: middle;\n",
       "    }\n",
       "\n",
       "    .dataframe tbody tr th {\n",
       "        vertical-align: top;\n",
       "    }\n",
       "\n",
       "    .dataframe thead th {\n",
       "        text-align: right;\n",
       "    }\n",
       "</style>\n",
       "<table border=\"1\" class=\"dataframe\">\n",
       "  <thead>\n",
       "    <tr style=\"text-align: right;\">\n",
       "      <th></th>\n",
       "      <th>ds</th>\n",
       "      <th>y</th>\n",
       "    </tr>\n",
       "  </thead>\n",
       "  <tbody>\n",
       "    <tr>\n",
       "      <th>24138</th>\n",
       "      <td>2004-05-09</td>\n",
       "      <td>32.778</td>\n",
       "    </tr>\n",
       "    <tr>\n",
       "      <th>24165</th>\n",
       "      <td>2004-05-16</td>\n",
       "      <td>32.743</td>\n",
       "    </tr>\n",
       "    <tr>\n",
       "      <th>24192</th>\n",
       "      <td>2004-05-23</td>\n",
       "      <td>32.570</td>\n",
       "    </tr>\n",
       "    <tr>\n",
       "      <th>24219</th>\n",
       "      <td>2004-05-30</td>\n",
       "      <td>32.610</td>\n",
       "    </tr>\n",
       "    <tr>\n",
       "      <th>24246</th>\n",
       "      <td>2004-06-06</td>\n",
       "      <td>32.677</td>\n",
       "    </tr>\n",
       "  </tbody>\n",
       "</table>\n",
       "</div>"
      ],
      "text/plain": [
       "              ds       y\n",
       "24138 2004-05-09  32.778\n",
       "24165 2004-05-16  32.743\n",
       "24192 2004-05-23  32.570\n",
       "24219 2004-05-30  32.610\n",
       "24246 2004-06-06  32.677"
      ]
     },
     "execution_count": 35,
     "metadata": {},
     "output_type": "execute_result"
    }
   ],
   "source": [
    "glp_ceara_train.head()"
   ]
  },
  {
   "cell_type": "code",
   "execution_count": 36,
   "metadata": {},
   "outputs": [
    {
     "data": {
      "text/html": [
       "<div>\n",
       "<style scoped>\n",
       "    .dataframe tbody tr th:only-of-type {\n",
       "        vertical-align: middle;\n",
       "    }\n",
       "\n",
       "    .dataframe tbody tr th {\n",
       "        vertical-align: top;\n",
       "    }\n",
       "\n",
       "    .dataframe thead th {\n",
       "        text-align: right;\n",
       "    }\n",
       "</style>\n",
       "<table border=\"1\" class=\"dataframe\">\n",
       "  <thead>\n",
       "    <tr style=\"text-align: right;\">\n",
       "      <th></th>\n",
       "      <th>ds</th>\n",
       "      <th>y</th>\n",
       "    </tr>\n",
       "  </thead>\n",
       "  <tbody>\n",
       "    <tr>\n",
       "      <th>103181</th>\n",
       "      <td>2019-01-06</td>\n",
       "      <td>71.762</td>\n",
       "    </tr>\n",
       "    <tr>\n",
       "      <th>103331</th>\n",
       "      <td>2019-01-13</td>\n",
       "      <td>73.153</td>\n",
       "    </tr>\n",
       "    <tr>\n",
       "      <th>103481</th>\n",
       "      <td>2019-01-20</td>\n",
       "      <td>72.878</td>\n",
       "    </tr>\n",
       "    <tr>\n",
       "      <th>103631</th>\n",
       "      <td>2019-01-27</td>\n",
       "      <td>73.182</td>\n",
       "    </tr>\n",
       "    <tr>\n",
       "      <th>103781</th>\n",
       "      <td>2019-02-03</td>\n",
       "      <td>72.103</td>\n",
       "    </tr>\n",
       "  </tbody>\n",
       "</table>\n",
       "</div>"
      ],
      "text/plain": [
       "               ds       y\n",
       "103181 2019-01-06  71.762\n",
       "103331 2019-01-13  73.153\n",
       "103481 2019-01-20  72.878\n",
       "103631 2019-01-27  73.182\n",
       "103781 2019-02-03  72.103"
      ]
     },
     "execution_count": 36,
     "metadata": {},
     "output_type": "execute_result"
    }
   ],
   "source": [
    "glp_ceara_test.head()"
   ]
  },
  {
   "cell_type": "code",
   "execution_count": 37,
   "metadata": {},
   "outputs": [
    {
     "data": {
      "text/plain": [
       "(760, 2)"
      ]
     },
     "execution_count": 37,
     "metadata": {},
     "output_type": "execute_result"
    }
   ],
   "source": [
    "glp_ceara_train.shape"
   ]
  },
  {
   "cell_type": "code",
   "execution_count": 38,
   "metadata": {},
   "outputs": [
    {
     "data": {
      "text/plain": [
       "(25, 2)"
      ]
     },
     "execution_count": 38,
     "metadata": {},
     "output_type": "execute_result"
    }
   ],
   "source": [
    "glp_ceara_test.shape"
   ]
  },
  {
   "cell_type": "markdown",
   "metadata": {},
   "source": [
    "#### Iniciando o trabalho com o Prophet"
   ]
  },
  {
   "cell_type": "code",
   "execution_count": 39,
   "metadata": {},
   "outputs": [],
   "source": [
    "pp_model = Prophet(interval_width=0.95, weekly_seasonality=True)\n",
    "# 'Interval_width = 0.95', define o intervalo de incerteza \n",
    "# para produzir um intervalo de confiança em torno da previsão."
   ]
  },
  {
   "cell_type": "code",
   "execution_count": 40,
   "metadata": {},
   "outputs": [
    {
     "name": "stderr",
     "output_type": "stream",
     "text": [
      "INFO:fbprophet:Disabling daily seasonality. Run prophet with daily_seasonality=True to override this.\n"
     ]
    },
    {
     "data": {
      "text/plain": [
       "<fbprophet.forecaster.Prophet at 0x7effc87cdf98>"
      ]
     },
     "execution_count": 40,
     "metadata": {},
     "output_type": "execute_result"
    }
   ],
   "source": [
    "pp_model.fit(glp_ceara_train)"
   ]
  },
  {
   "cell_type": "code",
   "execution_count": 41,
   "metadata": {},
   "outputs": [],
   "source": [
    "glp_pp_forecast = pp_model.make_future_dataframe(periods=25, freq='W')"
   ]
  },
  {
   "cell_type": "code",
   "execution_count": 42,
   "metadata": {},
   "outputs": [],
   "source": [
    "glp_pp_forecast = pp_model.predict(glp_pp_forecast)"
   ]
  },
  {
   "cell_type": "code",
   "execution_count": 43,
   "metadata": {},
   "outputs": [
    {
     "data": {
      "image/png": "[encoded data removed]",
      "text/plain": [
       "<Figure size 1080x360 with 1 Axes>"
      ]
     },
     "metadata": {
      "needs_background": "light"
     },
     "output_type": "display_data"
    }
   ],
   "source": [
    "# Plotando o que foi predito\n",
    "f, ax = plt.subplots(1)\n",
    "f.set_figheight(5)\n",
    "f.set_figwidth(15)\n",
    "fig = pp_model.plot(glp_pp_forecast, ax=ax)"
   ]
  },
  {
   "cell_type": "code",
   "execution_count": 44,
   "metadata": {},
   "outputs": [
    {
     "data": {
      "image/png": "[encoded data removed]",
      "text/plain": [
       "<Figure size 1080x360 with 1 Axes>"
      ]
     },
     "metadata": {
      "needs_background": "light"
     },
     "output_type": "display_data"
    }
   ],
   "source": [
    "# Plota o predito junto com o real\n",
    "f, ax = plt.subplots(1)\n",
    "f.set_figheight(5)\n",
    "f.set_figwidth(15)\n",
    "ax.scatter(glp_ceara_test['ds'], glp_ceara_test['y'], color='r')\n",
    "fig = pp_model.plot(glp_pp_forecast, ax=ax)"
   ]
  },
  {
   "cell_type": "code",
   "execution_count": 45,
   "metadata": {},
   "outputs": [
    {
     "data": {
      "text/plain": [
       "760    73.557616\n",
       "761    73.588576\n",
       "762    73.632899\n",
       "763    73.719323\n",
       "764    73.811594\n",
       "765    73.841432\n",
       "766    73.790407\n",
       "767    73.722851\n",
       "768    73.728179\n",
       "769    73.837671\n",
       "770    74.006664\n",
       "771    74.171327\n",
       "772    74.305749\n",
       "773    74.419593\n",
       "774    74.519055\n",
       "775    74.593040\n",
       "776    74.638272\n",
       "777    74.676865\n",
       "778    74.733178\n",
       "779    74.801646\n",
       "780    74.856835\n",
       "781    74.897666\n",
       "782    74.961190\n",
       "783    75.074600\n",
       "784    75.202679\n",
       "Name: yhat, dtype: float64"
      ]
     },
     "execution_count": 45,
     "metadata": {},
     "output_type": "execute_result"
    }
   ],
   "source": [
    "glp_pp_forecast['yhat'].tail(25)"
   ]
  },
  {
   "cell_type": "code",
   "execution_count": 46,
   "metadata": {},
   "outputs": [
    {
     "name": "stdout",
     "output_type": "stream",
     "text": [
      "MAE:  0.8911399741628621\n"
     ]
    }
   ],
   "source": [
    "print('MAE: ', metrics.mean_absolute_error(y_true=glp_pp_ceara_test['PRECO_MEDIO_REVENDA'],\n",
    "                                           y_pred=glp_pp_forecast['yhat']))"
   ]
  },
  {
   "cell_type": "code",
   "execution_count": 47,
   "metadata": {},
   "outputs": [
    {
     "name": "stdout",
     "output_type": "stream",
     "text": [
      "MSE:  1.808439367696726\n"
     ]
    }
   ],
   "source": [
    "print('MSE: ', metrics.mean_squared_error(y_true=glp_pp_ceara_test['PRECO_MEDIO_REVENDA'],\n",
    "                                          y_pred=glp_pp_forecast['yhat']))"
   ]
  },
  {
   "cell_type": "code",
   "execution_count": 48,
   "metadata": {},
   "outputs": [
    {
     "name": "stdout",
     "output_type": "stream",
     "text": [
      "RMSE:  1.3447822752017242\n"
     ]
    }
   ],
   "source": [
    "print('RMSE: ', np.sqrt(metrics.mean_squared_error(y_true=glp_pp_ceara_test['PRECO_MEDIO_REVENDA'],\n",
    "                                                   y_pred=glp_pp_forecast['yhat'])))"
   ]
  },
  {
   "cell_type": "code",
   "execution_count": null,
   "metadata": {},
   "outputs": [],
   "source": []
  },
  {
   "cell_type": "code",
   "execution_count": null,
   "metadata": {},
   "outputs": [],
   "source": []
  },
  {
   "cell_type": "code",
   "execution_count": null,
   "metadata": {},
   "outputs": [],
   "source": []
  },
  {
   "cell_type": "code",
   "execution_count": null,
   "metadata": {},
   "outputs": [],
   "source": []
  },
  {
   "cell_type": "code",
   "execution_count": null,
   "metadata": {},
   "outputs": [],
   "source": []
  },
  {
   "cell_type": "code",
   "execution_count": null,
   "metadata": {},
   "outputs": [],
   "source": []
  },
  {
   "cell_type": "code",
   "execution_count": null,
   "metadata": {},
   "outputs": [],
   "source": []
  },
  {
   "cell_type": "code",
   "execution_count": null,
   "metadata": {},
   "outputs": [],
   "source": []
  },
  {
   "cell_type": "code",
   "execution_count": null,
   "metadata": {},
   "outputs": [],
   "source": []
  },
  {
   "cell_type": "code",
   "execution_count": null,
   "metadata": {},
   "outputs": [],
   "source": []
  },
  {
   "cell_type": "code",
   "execution_count": null,
   "metadata": {},
   "outputs": [],
   "source": []
  },
  {
   "cell_type": "code",
   "execution_count": null,
   "metadata": {},
   "outputs": [],
   "source": []
  },
  {
   "cell_type": "markdown",
   "metadata": {},
   "source": [
    "Tentativa com outros algoritmos de Séries Temporais - ARIMA e SARIMA (Incompleto)"
   ]
  },
  {
   "cell_type": "markdown",
   "metadata": {},
   "source": [
    "### Times Series Forecasting com ARIMA\n",
    "ARIMA models are denoted with the notation ARIMA(p, d, q). These three parameters account for seasonality, trend, and noise in data:"
   ]
  },
  {
   "cell_type": "code",
   "execution_count": 49,
   "metadata": {},
   "outputs": [],
   "source": [
    "from statsmodels.tsa.arima_model import ARIMA"
   ]
  },
  {
   "cell_type": "code",
   "execution_count": 50,
   "metadata": {},
   "outputs": [
    {
     "data": {
      "text/plain": [
       "(760, 2)"
      ]
     },
     "execution_count": 50,
     "metadata": {},
     "output_type": "execute_result"
    }
   ],
   "source": [
    "glp_ceara_train.shape"
   ]
  },
  {
   "cell_type": "code",
   "execution_count": 51,
   "metadata": {},
   "outputs": [],
   "source": [
    "arima_train = glp_ceara_train.iloc[:,1]"
   ]
  },
  {
   "cell_type": "code",
   "execution_count": 52,
   "metadata": {},
   "outputs": [
    {
     "name": "stderr",
     "output_type": "stream",
     "text": [
      "/home/user/anaconda3/lib/python3.7/site-packages/statsmodels/tsa/base/tsa_model.py:215: ValueWarning: An unsupported index was provided and will be ignored when e.g. forecasting.\n",
      "  ' ignored when e.g. forecasting.', ValueWarning)\n",
      "/home/user/anaconda3/lib/python3.7/site-packages/statsmodels/tsa/base/tsa_model.py:215: ValueWarning: An unsupported index was provided and will be ignored when e.g. forecasting.\n",
      "  ' ignored when e.g. forecasting.', ValueWarning)\n"
     ]
    }
   ],
   "source": [
    "ar_model = ARIMA(arima_train, order=(1,1,1))"
   ]
  },
  {
   "cell_type": "code",
   "execution_count": 53,
   "metadata": {},
   "outputs": [],
   "source": [
    "ar_model_fit = ar_model.fit(disp=False)"
   ]
  },
  {
   "cell_type": "code",
   "execution_count": 54,
   "metadata": {},
   "outputs": [
    {
     "name": "stderr",
     "output_type": "stream",
     "text": [
      "/home/user/anaconda3/lib/python3.7/site-packages/statsmodels/tsa/base/tsa_model.py:576: ValueWarning: No supported index is available. Prediction results will be given with an integer index beginning at `start`.\n",
      "  ValueWarning)\n"
     ]
    }
   ],
   "source": [
    "ar_model_predicted = ar_model_fit.predict(len(arima_train), len(arima_train))"
   ]
  },
  {
   "cell_type": "code",
   "execution_count": 55,
   "metadata": {},
   "outputs": [
    {
     "name": "stdout",
     "output_type": "stream",
     "text": [
      "759    0.202223\n",
      "dtype: float64\n"
     ]
    }
   ],
   "source": [
    "print(ar_model_predicted)"
   ]
  },
  {
   "cell_type": "code",
   "execution_count": null,
   "metadata": {},
   "outputs": [],
   "source": []
  },
  {
   "cell_type": "markdown",
   "metadata": {},
   "source": [
    "### Times Series Forecasting com SARIMA"
   ]
  },
  {
   "cell_type": "code",
   "execution_count": 56,
   "metadata": {},
   "outputs": [],
   "source": [
    "from statsmodels.tsa.statespace.sarimax import SARIMAX"
   ]
  },
  {
   "cell_type": "code",
   "execution_count": 57,
   "metadata": {},
   "outputs": [],
   "source": [
    "sarima_train = glp_ceara_train.iloc[:,1]"
   ]
  },
  {
   "cell_type": "code",
   "execution_count": 58,
   "metadata": {},
   "outputs": [
    {
     "name": "stderr",
     "output_type": "stream",
     "text": [
      "/home/user/anaconda3/lib/python3.7/site-packages/statsmodels/tsa/base/tsa_model.py:215: ValueWarning: An unsupported index was provided and will be ignored when e.g. forecasting.\n",
      "  ' ignored when e.g. forecasting.', ValueWarning)\n"
     ]
    }
   ],
   "source": [
    "sa_model = SARIMAX(sarima_train, order=(1, 1, 1), seasonal_order=(1, 1, 1, 1))"
   ]
  },
  {
   "cell_type": "code",
   "execution_count": 59,
   "metadata": {},
   "outputs": [],
   "source": [
    "sa_model_fit = sa_model.fit(disp=False)"
   ]
  },
  {
   "cell_type": "code",
   "execution_count": 60,
   "metadata": {},
   "outputs": [
    {
     "name": "stderr",
     "output_type": "stream",
     "text": [
      "/home/user/anaconda3/lib/python3.7/site-packages/statsmodels/tsa/base/tsa_model.py:576: ValueWarning: No supported index is available. Prediction results will be given with an integer index beginning at `start`.\n",
      "  ValueWarning)\n"
     ]
    }
   ],
   "source": [
    "sa_model_predicted = sa_model_fit.predict(len(sarima_train), len(sarima_train))"
   ]
  },
  {
   "cell_type": "code",
   "execution_count": 61,
   "metadata": {},
   "outputs": [
    {
     "name": "stdout",
     "output_type": "stream",
     "text": [
      "760    71.030284\n",
      "dtype: float64\n"
     ]
    }
   ],
   "source": [
    "print(sa_model_predicted)"
   ]
  },
  {
   "cell_type": "code",
   "execution_count": null,
   "metadata": {},
   "outputs": [],
   "source": []
  },
  {
   "cell_type": "code",
   "execution_count": null,
   "metadata": {},
   "outputs": [],
   "source": []
  },
  {
   "cell_type": "markdown",
   "metadata": {},
   "source": [
    "Wesley Pedro"
   ]
  }
 ],
 "metadata": {
  "kernelspec": {
   "display_name": "Python 3",
   "language": "python",
   "name": "python3"
  },
  "language_info": {
   "codemirror_mode": {
    "name": "ipython",
    "version": 3
   },
   "file_extension": ".py",
   "mimetype": "text/x-python",
   "name": "python",
   "nbconvert_exporter": "python",
   "pygments_lexer": "ipython3",
   "version": "3.7.3"
  }
 },
 "nbformat": 4,
 "nbformat_minor": 2
}
